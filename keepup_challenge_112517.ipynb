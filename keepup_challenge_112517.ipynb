{
 "cells": [
  {
   "cell_type": "markdown",
   "metadata": {},
   "source": [
    "## Keep Up Data Science Interview Challenge"
   ]
  },
  {
   "cell_type": "markdown",
   "metadata": {},
   "source": [
    "For this exercise, you will analyze a dataset from Amazon. The data format and a\n",
    "sample entry are shown on the next page. "
   ]
  },
  {
   "cell_type": "markdown",
   "metadata": {},
   "source": [
    "A. (Suggested duration: 90 mins)\n",
    "With the given data for 548552 products, perform exploratory analysis and make\n",
    "suggestions for further analysis on the following aspects.  "
   ]
  },
  {
   "cell_type": "markdown",
   "metadata": {},
   "source": [
    "## 1. Trustworthiness of ratings\n",
    "Ratings are susceptible to manipulation, bias etc. What can you say (quantitatively\n",
    "speaking) about the ratings in this dataset?  "
   ]
  },
  {
   "cell_type": "code",
   "execution_count": 1,
   "metadata": {
    "collapsed": true
   },
   "outputs": [],
   "source": [
    "import pandas as pd\n",
    "import datetime\n",
    "import seaborn as sns\n",
    "%matplotlib inline"
   ]
  },
  {
   "cell_type": "markdown",
   "metadata": {},
   "source": [
    "We will begin by reading in the data and parsing it:"
   ]
  },
  {
   "cell_type": "code",
   "execution_count": 3,
   "metadata": {
    "collapsed": false
   },
   "outputs": [],
   "source": [
    "# Read the data, I've never used gzip but it is quite neat!\n",
    "import gzip\n",
    "with gzip.open('amazon-meta.txt.gz', 'rt') as f:\n",
    "    file_data = f.read()\n",
    "f.close()"
   ]
  },
  {
   "cell_type": "code",
   "execution_count": 4,
   "metadata": {
    "collapsed": false
   },
   "outputs": [],
   "source": [
    "# Parse and group the data by product\n",
    "product_group = []\n",
    "add = []\n",
    "\n",
    "for string in file_data.split('\\n')[3:]:\n",
    "    if string != '':\n",
    "        add.append(string)\n",
    "    else:\n",
    "        product_group.append(add)\n",
    "        add = []"
   ]
  },
  {
   "cell_type": "code",
   "execution_count": 5,
   "metadata": {
    "collapsed": false
   },
   "outputs": [],
   "source": [
    "# Extract rating info from each product group into a dataframe\n",
    "ttl_ratings = {}\n",
    "\n",
    "for i in product_group:\n",
    "    ident, total, downloaded, avg_rating = '', '', '', ''\n",
    "    for j in i:\n",
    "        if j.startswith('Id:'):\n",
    "            ident = j.split()[-1]\n",
    "        elif j.startswith('  reviews:'):\n",
    "            total = j.split()[2]\n",
    "            dl = j.split()[4]\n",
    "            avg_rate = j.split()[7]\n",
    "        elif j.startswith('  discontinued product'):\n",
    "            skip = True\n",
    "    if skip == False:\n",
    "        ttl_ratings[ident] = [total, dl, avg_rate]\n",
    "    else:\n",
    "        skip = False"
   ]
  },
  {
   "cell_type": "code",
   "execution_count": 6,
   "metadata": {
    "collapsed": true
   },
   "outputs": [],
   "source": [
    "#building the ratings data frame\n",
    "df_ratings = pd.DataFrame.from_dict(ttl_ratings)\n",
    "df_ratings = df_ratings.T.reset_index(drop=False)\n",
    "df_ratings.columns = ['id', 'total', 'downloaded', 'avg_rating']\n",
    "df_ratings = df_ratings.iloc[1:]\n",
    "df_ratings['id']  = df_ratings['id'].astype(int)\n",
    "df_ratings['total']  = df_ratings['total'].astype(int)\n",
    "df_ratings['downloaded']  = df_ratings['downloaded'].astype(int)\n",
    "df_ratings['avg_rating']  = df_ratings['avg_rating'].astype(float)\n",
    "df_ratings = df_ratings.sort_values('id')"
   ]
  },
  {
   "cell_type": "markdown",
   "metadata": {},
   "source": [
    "I now have a Pandas dataframe with ratings! Let's take a look at some of the ratings info:"
   ]
  },
  {
   "cell_type": "code",
   "execution_count": 7,
   "metadata": {
    "collapsed": false
   },
   "outputs": [
    {
     "data": {
      "text/html": [
       "<div>\n",
       "<table border=\"1\" class=\"dataframe\">\n",
       "  <thead>\n",
       "    <tr style=\"text-align: right;\">\n",
       "      <th></th>\n",
       "      <th>id</th>\n",
       "      <th>total</th>\n",
       "      <th>downloaded</th>\n",
       "      <th>avg_rating</th>\n",
       "    </tr>\n",
       "  </thead>\n",
       "  <tbody>\n",
       "    <tr>\n",
       "      <th>1</th>\n",
       "      <td>1</td>\n",
       "      <td>2</td>\n",
       "      <td>2</td>\n",
       "      <td>5.0</td>\n",
       "    </tr>\n",
       "    <tr>\n",
       "      <th>109902</th>\n",
       "      <td>2</td>\n",
       "      <td>12</td>\n",
       "      <td>12</td>\n",
       "      <td>4.5</td>\n",
       "    </tr>\n",
       "    <tr>\n",
       "      <th>219674</th>\n",
       "      <td>3</td>\n",
       "      <td>1</td>\n",
       "      <td>1</td>\n",
       "      <td>5.0</td>\n",
       "    </tr>\n",
       "    <tr>\n",
       "      <th>329477</th>\n",
       "      <td>4</td>\n",
       "      <td>1</td>\n",
       "      <td>1</td>\n",
       "      <td>4.0</td>\n",
       "    </tr>\n",
       "    <tr>\n",
       "      <th>439371</th>\n",
       "      <td>5</td>\n",
       "      <td>0</td>\n",
       "      <td>0</td>\n",
       "      <td>0.0</td>\n",
       "    </tr>\n",
       "  </tbody>\n",
       "</table>\n",
       "</div>"
      ],
      "text/plain": [
       "        id  total  downloaded  avg_rating\n",
       "1        1      2           2         5.0\n",
       "109902   2     12          12         4.5\n",
       "219674   3      1           1         5.0\n",
       "329477   4      1           1         4.0\n",
       "439371   5      0           0         0.0"
      ]
     },
     "execution_count": 7,
     "metadata": {},
     "output_type": "execute_result"
    }
   ],
   "source": [
    "df_ratings.head()"
   ]
  },
  {
   "cell_type": "code",
   "execution_count": 8,
   "metadata": {
    "collapsed": false
   },
   "outputs": [
    {
     "data": {
      "text/html": [
       "<div>\n",
       "<table border=\"1\" class=\"dataframe\">\n",
       "  <thead>\n",
       "    <tr style=\"text-align: right;\">\n",
       "      <th></th>\n",
       "      <th>id</th>\n",
       "      <th>total</th>\n",
       "      <th>downloaded</th>\n",
       "      <th>avg_rating</th>\n",
       "    </tr>\n",
       "  </thead>\n",
       "  <tbody>\n",
       "    <tr>\n",
       "      <th>102215</th>\n",
       "      <td>193</td>\n",
       "      <td>261</td>\n",
       "      <td>260</td>\n",
       "      <td>3.0</td>\n",
       "    </tr>\n",
       "    <tr>\n",
       "      <th>292161</th>\n",
       "      <td>366</td>\n",
       "      <td>10</td>\n",
       "      <td>5</td>\n",
       "      <td>4.5</td>\n",
       "    </tr>\n",
       "    <tr>\n",
       "      <th>295451</th>\n",
       "      <td>369</td>\n",
       "      <td>416</td>\n",
       "      <td>5</td>\n",
       "      <td>5.0</td>\n",
       "    </tr>\n",
       "    <tr>\n",
       "      <th>297637</th>\n",
       "      <td>371</td>\n",
       "      <td>416</td>\n",
       "      <td>415</td>\n",
       "      <td>5.0</td>\n",
       "    </tr>\n",
       "    <tr>\n",
       "      <th>300934</th>\n",
       "      <td>374</td>\n",
       "      <td>7</td>\n",
       "      <td>5</td>\n",
       "      <td>3.5</td>\n",
       "    </tr>\n",
       "  </tbody>\n",
       "</table>\n",
       "</div>"
      ],
      "text/plain": [
       "         id  total  downloaded  avg_rating\n",
       "102215  193    261         260         3.0\n",
       "292161  366     10           5         4.5\n",
       "295451  369    416           5         5.0\n",
       "297637  371    416         415         5.0\n",
       "300934  374      7           5         3.5"
      ]
     },
     "execution_count": 8,
     "metadata": {},
     "output_type": "execute_result"
    }
   ],
   "source": [
    "# Are there products with more ratings than downloads?\n",
    "df_ratings[df_ratings['total'] > df_ratings['downloaded']].head()"
   ]
  },
  {
   "cell_type": "code",
   "execution_count": 14,
   "metadata": {
    "collapsed": false
   },
   "outputs": [
    {
     "data": {
      "text/plain": [
       "<matplotlib.axes._subplots.AxesSubplot at 0x1c29136d8>"
      ]
     },
     "execution_count": 14,
     "metadata": {},
     "output_type": "execute_result"
    },
    {
     "data": {
      "image/png": "[encoded data removed]",
      "text/plain": [
       "<matplotlib.figure.Figure at 0x10ddf4cc0>"
      ]
     },
     "metadata": {},
     "output_type": "display_data"
    }
   ],
   "source": [
    "# let's look closer at the difference between ratings and downloads\n",
    "df_ratings['diff'] = df_ratings['total'] - df_ratings['downloaded']\n",
    "df_ratings = df_ratings.sort_values('diff', ascending=False)\n",
    "sns.distplot(df_ratings['diff'])"
   ]
  },
  {
   "cell_type": "code",
   "execution_count": 15,
   "metadata": {
    "collapsed": false
   },
   "outputs": [
    {
     "data": {
      "text/plain": [
       "<matplotlib.axes._subplots.AxesSubplot at 0x1c23ea978>"
      ]
     },
     "execution_count": 15,
     "metadata": {},
     "output_type": "execute_result"
    },
    {
     "data": {
      "image/png": "[encoded data removed]",
      "text/plain": [
       "<matplotlib.figure.Figure at 0x1c2cc0780>"
      ]
     },
     "metadata": {},
     "output_type": "display_data"
    }
   ],
   "source": [
    "sns.distplot(df_ratings[df_ratings['diff'] > 100]['diff'])"
   ]
  },
  {
   "cell_type": "markdown",
   "metadata": {},
   "source": [
    "Looks like there are a fair number of products that have more ratings than downloads, which seems odd. I guess this could also be due to users that research products on the site or leave reviews even after having purchased the item elsewhere."
   ]
  },
  {
   "cell_type": "markdown",
   "metadata": {},
   "source": [
    "## 2. Category bloat\n",
    "Consider the product group named 'Books'. Each product in this group is associated with\n",
    "categories. Naturally, with categorization, there are tradeoffs between how broad or\n",
    "specific the categories must be.  \n",
    "  \n",
    "For this dataset, quantify the following:  \n",
    "a. Is there redundancy in the categorization? How can it be identified/removed?  \n",
    "b. Is it possible to reduce the number of categories drastically (say to 10% of existing categories) by sacrificing relatively few category entries (say close to 10%)?"
   ]
  },
  {
   "cell_type": "code",
   "execution_count": 17,
   "metadata": {
    "collapsed": false
   },
   "outputs": [
    {
     "data": {
      "text/plain": [
       "[['Id:   0', 'ASIN: 0771044445', '  discontinued product'],\n",
       " ['Id:   1',\n",
       "  'ASIN: 0827229534',\n",
       "  '  title: Patterns of Preaching: A Sermon Sampler',\n",
       "  '  group: Book',\n",
       "  '  salesrank: 396585',\n",
       "  '  similar: 5  0804215715  156101074X  0687023955  0687074231  082721619X',\n",
       "  '  categories: 2',\n",
       "  '   |Books[283155]|Subjects[1000]|Religion & Spirituality[22]|Christianity[12290]|Clergy[12360]|Preaching[12368]',\n",
       "  '   |Books[283155]|Subjects[1000]|Religion & Spirituality[22]|Christianity[12290]|Clergy[12360]|Sermons[12370]',\n",
       "  '  reviews: total: 2  downloaded: 2  avg rating: 5',\n",
       "  '    2000-7-28  cutomer: A2JW67OY8U6HHK  rating: 5  votes:  10  helpful:   9',\n",
       "  '    2003-12-14  cutomer: A2VE83MZF98ITY  rating: 5  votes:   6  helpful:   5'],\n",
       " ['Id:   2',\n",
       "  'ASIN: 0738700797',\n",
       "  '  title: Candlemas: Feast of Flames',\n",
       "  '  group: Book',\n",
       "  '  salesrank: 168596',\n",
       "  '  similar: 5  0738700827  1567184960  1567182836  0738700525  0738700940',\n",
       "  '  categories: 2',\n",
       "  '   |Books[283155]|Subjects[1000]|Religion & Spirituality[22]|Earth-Based Religions[12472]|Wicca[12484]',\n",
       "  '   |Books[283155]|Subjects[1000]|Religion & Spirituality[22]|Earth-Based Religions[12472]|Witchcraft[12486]',\n",
       "  '  reviews: total: 12  downloaded: 12  avg rating: 4.5',\n",
       "  '    2001-12-16  cutomer: A11NCO6YTE4BTJ  rating: 5  votes:   5  helpful:   4',\n",
       "  '    2002-1-7  cutomer:  A9CQ3PLRNIR83  rating: 4  votes:   5  helpful:   5',\n",
       "  '    2002-1-24  cutomer: A13SG9ACZ9O5IM  rating: 5  votes:   8  helpful:   8',\n",
       "  '    2002-1-28  cutomer: A1BDAI6VEYMAZA  rating: 5  votes:   4  helpful:   4',\n",
       "  '    2002-2-6  cutomer: A2P6KAWXJ16234  rating: 4  votes:  16  helpful:  16',\n",
       "  '    2002-2-14  cutomer:  AMACWC3M7PQFR  rating: 4  votes:   5  helpful:   5',\n",
       "  '    2002-3-23  cutomer: A3GO7UV9XX14D8  rating: 4  votes:   6  helpful:   6',\n",
       "  '    2002-5-23  cutomer: A1GIL64QK68WKL  rating: 5  votes:   8  helpful:   8',\n",
       "  '    2003-2-25  cutomer:  AEOBOF2ONQJWV  rating: 5  votes:   8  helpful:   5',\n",
       "  '    2003-11-25  cutomer: A3IGHTES8ME05L  rating: 5  votes:   5  helpful:   5',\n",
       "  '    2004-2-11  cutomer: A1CP26N8RHYVVO  rating: 1  votes:  13  helpful:   9',\n",
       "  '    2005-2-7  cutomer:  ANEIANH0WAT9D  rating: 5  votes:   1  helpful:   1']]"
      ]
     },
     "execution_count": 17,
     "metadata": {},
     "output_type": "execute_result"
    }
   ],
   "source": [
    "product_group[0:3]"
   ]
  },
  {
   "cell_type": "markdown",
   "metadata": {},
   "source": [
    "It is clear that books with more than one category show serious amounts of redundancy in the first few layers of categorizations. Let's dig deeper:"
   ]
  },
  {
   "cell_type": "code",
   "execution_count": 21,
   "metadata": {
    "collapsed": false
   },
   "outputs": [],
   "source": [
    "# Extract category info from each book into a list\n",
    "categories = []\n",
    "count_of_books = 0\n",
    "\n",
    "for i in product_group:\n",
    "    prod_type = ''\n",
    "    for j in i:\n",
    "        if j.startswith('  group:'):\n",
    "            prod_type = j.split()[-1]\n",
    "        if prod_type == 'Book':\n",
    "            if j.startswith('   |'):\n",
    "                categories.append(j.strip())\n",
    "    if prod_type == 'Book':\n",
    "        count_of_books += 1"
   ]
  },
  {
   "cell_type": "code",
   "execution_count": 23,
   "metadata": {
    "collapsed": false
   },
   "outputs": [
    {
     "name": "stdout",
     "output_type": "stream",
     "text": [
      "Book count = 393561\n"
     ]
    }
   ],
   "source": [
    "print('Book count = ' + str(count_of_books))"
   ]
  },
  {
   "cell_type": "code",
   "execution_count": 24,
   "metadata": {
    "collapsed": false
   },
   "outputs": [
    {
     "name": "stdout",
     "output_type": "stream",
     "text": [
      "Category count = 1440329\n"
     ]
    }
   ],
   "source": [
    "print('Category count = ' + str(len(categories)))"
   ]
  },
  {
   "cell_type": "code",
   "execution_count": 27,
   "metadata": {
    "collapsed": false
   },
   "outputs": [],
   "source": [
    "# How many sub-categories are there?\n",
    "sub_categories = []\n",
    "for i in categories:\n",
    "    for j in i.split('|')[1:]:\n",
    "        sub_categories.append(j)"
   ]
  },
  {
   "cell_type": "code",
   "execution_count": 28,
   "metadata": {
    "collapsed": false
   },
   "outputs": [
    {
     "name": "stdout",
     "output_type": "stream",
     "text": [
      "Total subcategories 7891047\n"
     ]
    }
   ],
   "source": [
    "print('Total subcategories ' + str(len(sub_categories)))"
   ]
  },
  {
   "cell_type": "code",
   "execution_count": 29,
   "metadata": {
    "collapsed": false
   },
   "outputs": [
    {
     "data": {
      "text/html": [
       "<div>\n",
       "<table border=\"1\" class=\"dataframe\">\n",
       "  <thead>\n",
       "    <tr style=\"text-align: right;\">\n",
       "      <th></th>\n",
       "      <th>index</th>\n",
       "      <th>0</th>\n",
       "    </tr>\n",
       "  </thead>\n",
       "  <tbody>\n",
       "    <tr>\n",
       "      <th>0</th>\n",
       "      <td>Books[283155]</td>\n",
       "      <td>1286848</td>\n",
       "    </tr>\n",
       "    <tr>\n",
       "      <th>1</th>\n",
       "      <td>Subjects[1000]</td>\n",
       "      <td>1222638</td>\n",
       "    </tr>\n",
       "    <tr>\n",
       "      <th>130</th>\n",
       "      <td>Children's Books[4]</td>\n",
       "      <td>134263</td>\n",
       "    </tr>\n",
       "    <tr>\n",
       "      <th>125</th>\n",
       "      <td>Amazon.com Stores[285080]</td>\n",
       "      <td>123925</td>\n",
       "    </tr>\n",
       "    <tr>\n",
       "      <th>124</th>\n",
       "      <td>[265523]</td>\n",
       "      <td>123925</td>\n",
       "    </tr>\n",
       "  </tbody>\n",
       "</table>\n",
       "</div>"
      ],
      "text/plain": [
       "                         index        0\n",
       "0                Books[283155]  1286848\n",
       "1               Subjects[1000]  1222638\n",
       "130        Children's Books[4]   134263\n",
       "125  Amazon.com Stores[285080]   123925\n",
       "124                   [265523]   123925"
      ]
     },
     "execution_count": 29,
     "metadata": {},
     "output_type": "execute_result"
    }
   ],
   "source": [
    "# Create a dataframe to show sub-category counts\n",
    "# I asked another student for help on this question\n",
    "from collections import Counter\n",
    "\n",
    "count_of_categories = pd.DataFrame.from_dict(Counter(sub_categories), orient='index').reset_index()\n",
    "count_of_categories = count_of_categories.sort_values(0, ascending=False)\n",
    "count_of_categories.head()"
   ]
  },
  {
   "cell_type": "markdown",
   "metadata": {},
   "source": [
    "If we target the most common sub-categories across all books (and assume that this does not harm the searching structure too much) and aim to drop them in favor of the more specific sub-categories, perhaps we can reduce the number of unique sub-categories."
   ]
  },
  {
   "cell_type": "code",
   "execution_count": 30,
   "metadata": {
    "collapsed": false
   },
   "outputs": [
    {
     "name": "stdout",
     "output_type": "stream",
     "text": [
      "The first 9.38% of largest sub-category titles makes up 90.04% of the sub-category volume.\n"
     ]
    }
   ],
   "source": [
    "# Determine what percent of category appearances is the top 10% of sub-category titles\n",
    "# I asked another student for help on this question\n",
    "\n",
    "print('The first {:.2f}% of largest sub-category titles makes up {:.2f}% of the sub-category volume.'\\\n",
    "          .format((len(count_of_categories.iloc[0:1400])/len(count_of_categories))*100, \n",
    "                  count_of_categories.iloc[0:1400][0].sum()/count_of_categories[0].sum()*100))"
   ]
  },
  {
   "cell_type": "markdown",
   "metadata": {},
   "source": [
    "According to our analysis, we can reduce the number of sub-category titles by 90% by removing the top 10% of most occuring sub-category titles."
   ]
  },
  {
   "cell_type": "markdown",
   "metadata": {},
   "source": [
    "<b>B. (Suggested duration: 30 mins)</b>  \n",
    "Give the number crunching a rest! Just think about these problems.  \n",
    "  \n",
    "<b>1. Algorithm thinking</b>  \n",
    "How would you build the product categorization from scratch, using similar/co-purchased\n",
    "information?  \n",
    "  \n",
    "<b>2. Product thinking</b>  \n",
    "Now, put on your 'product thinking' hat:  \n",
    "a. Is it a good idea to show users the categorization hierarchy for items?  \n",
    "b. Is it a good idea to show users similar/co-purchased items?  \n",
    "c. Is it a good idea to show users reviews and ratings for items?  \n",
    "d. For each of the above, why? How will you establish the same?  "
   ]
  },
  {
   "cell_type": "markdown",
   "metadata": {},
   "source": [
    "#1. Creating product categorization would be very similar to my Capstone Project # 2 where I would look at clustering based on vectors and tf-idf matrices. I would then tune parameters to understnad the primary categories."
   ]
  },
  {
   "cell_type": "markdown",
   "metadata": {},
   "source": [
    "#2a. It is a good idea to show users the categories for ease of use, however it does introduce bias when it comes to products that are displayed and offered."
   ]
  },
  {
   "cell_type": "markdown",
   "metadata": {},
   "source": [
    "#2b. It is a good idea to show users similar items for purchase. Recommendation systems either item or user based can be of value in these scenarios. "
   ]
  },
  {
   "cell_type": "markdown",
   "metadata": {},
   "source": [
    "#2c. it is a good idea to show users reviews and ratings as it builds trust in the product."
   ]
  },
  {
   "cell_type": "code",
   "execution_count": null,
   "metadata": {
    "collapsed": true
   },
   "outputs": [],
   "source": []
  }
 ],
 "metadata": {
  "kernelspec": {
   "display_name": "Python 3",
   "language": "python",
   "name": "python3"
  },
  "language_info": {
   "codemirror_mode": {
    "name": "ipython",
    "version": 3
   },
   "file_extension": ".py",
   "mimetype": "text/x-python",
   "name": "python",
   "nbconvert_exporter": "python",
   "pygments_lexer": "ipython3",
   "version": "3.6.1"
  }
 },
 "nbformat": 4,
 "nbformat_minor": 2
}
